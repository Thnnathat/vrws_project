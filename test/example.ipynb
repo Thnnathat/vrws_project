{
 "cells": [
  {
   "cell_type": "code",
   "execution_count": 2,
   "metadata": {},
   "outputs": [
    {
     "name": "stdout",
     "output_type": "stream",
     "text": [
      "['0', '-1', '-500', '100', '200', '150', '0', '90', '1', '0', '20', '50', '100']\n"
     ]
    }
   ],
   "source": [
    "import re\n",
    "recvData = re.findall(r'-?\\d+', '0,{-1},MovJ(pose={-500,100,200,150,0,90},user=1, tool=0, a=20, v=50, cp=100);')\n",
    "print(recvData)"
   ]
  }
 ],
 "metadata": {
  "kernelspec": {
   "display_name": "vrws-env",
   "language": "python",
   "name": "python3"
  },
  "language_info": {
   "codemirror_mode": {
    "name": "ipython",
    "version": 3
   },
   "file_extension": ".py",
   "mimetype": "text/x-python",
   "name": "python",
   "nbconvert_exporter": "python",
   "pygments_lexer": "ipython3",
   "version": "3.10.10"
  }
 },
 "nbformat": 4,
 "nbformat_minor": 2
}
